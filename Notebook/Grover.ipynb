{
 "cells": [
  {
   "cell_type": "code",
   "execution_count": 3,
   "metadata": {},
   "outputs": [
    {
     "data": {
      "application/json": "[]",
      "text/html": [
       "<ul></ul>"
      ],
      "text/plain": []
     },
     "execution_count": 3,
     "metadata": {},
     "output_type": "execute_result"
    }
   ],
   "source": [
    "open Microsoft.Quantum.Convert;\n",
    "open Microsoft.Quantum.Arrays;\n",
    "open Microsoft.Quantum.Measurement;\n",
    "open Microsoft.Quantum.Arithmetic;\n",
    "open Microsoft.Quantum.Preparation;                              \n",
    "open Microsoft.Quantum.Math;"
   ]
  },
  {
   "cell_type": "code",
   "execution_count": 4,
   "metadata": {},
   "outputs": [
    {
     "data": {
      "application/json": "[\"ReflectAboutAllOnes\"]",
      "text/html": [
       "<ul><li>ReflectAboutAllOnes</li></ul>"
      ],
      "text/plain": [
       "ReflectAboutAllOnes"
      ]
     },
     "execution_count": 4,
     "metadata": {},
     "output_type": "execute_result"
    }
   ],
   "source": [
    "operation ReflectAboutAllOnes(register : Qubit[]) : Unit is Adj + Ctl {\n",
    "    Controlled Z(Most(register), Tail(register));\n",
    "}"
   ]
  },
  {
   "cell_type": "code",
   "execution_count": 5,
   "metadata": {},
   "outputs": [
    {
     "data": {
      "application/json": "[\"PrepareAllOnes\"]",
      "text/html": [
       "<ul><li>PrepareAllOnes</li></ul>"
      ],
      "text/plain": [
       "PrepareAllOnes"
      ]
     },
     "execution_count": 5,
     "metadata": {},
     "output_type": "execute_result"
    }
   ],
   "source": [
    "operation PrepareAllOnes(register : Qubit[]) : Unit is Adj + Ctl {\n",
    "    ApplyToEachCA(X, register);\n",
    "}"
   ]
  },
  {
   "cell_type": "code",
   "execution_count": 6,
   "metadata": {},
   "outputs": [
    {
     "data": {
      "application/json": "[\"PrepareInitialState\",\"ReflectAboutInitialState\"]",
      "text/html": [
       "<ul><li>PrepareInitialState</li><li>ReflectAboutInitialState</li></ul>"
      ],
      "text/plain": [
       "PrepareInitialState, ReflectAboutInitialState"
      ]
     },
     "execution_count": 6,
     "metadata": {},
     "output_type": "execute_result"
    }
   ],
   "source": [
    "operation PrepareInitialState(register : Qubit[]) : Unit is Adj + Ctl {\n",
    "    ApplyToEachCA(H, register);\n",
    "}\n",
    " \n",
    "operation ReflectAboutInitialState(\n",
    "    prepareInitialState : (Qubit[] => Unit is Adj),\n",
    "    register : Qubit[]\n",
    ")\n",
    ": Unit {\n",
    "    within {\n",
    "        Adjoint prepareInitialState(register);\n",
    "        PrepareAllOnes(register);\n",
    "    } apply {\n",
    "        ReflectAboutAllOnes(register);\n",
    "    }\n",
    "}"
   ]
  },
  {
   "cell_type": "code",
   "execution_count": 7,
   "metadata": {},
   "outputs": [
    {
     "data": {
      "application/json": "[\"ReflectAboutMarkedState\"]",
      "text/html": [
       "<ul><li>ReflectAboutMarkedState</li></ul>"
      ],
      "text/plain": [
       "ReflectAboutMarkedState"
      ]
     },
     "execution_count": 7,
     "metadata": {},
     "output_type": "execute_result"
    }
   ],
   "source": [
    "operation ReflectAboutMarkedState(\n",
    "    markedItemOracle : ((Qubit[], Qubit) => Unit is Adj),\n",
    "    inputQubits : Qubit[])\n",
    ": Unit is Adj {\n",
    "    using (flag = Qubit()) {\n",
    "        within {\n",
    "            X(flag);\n",
    "            H(flag);\n",
    "        } apply{\n",
    "            markedItemOracle(inputQubits, flag);\n",
    "        }\n",
    "    }\n",
    "}"
   ]
  },
  {
   "cell_type": "code",
   "execution_count": 8,
   "metadata": {},
   "outputs": [
    {
     "data": {
      "application/json": "[\"NIterations\"]",
      "text/html": [
       "<ul><li>NIterations</li></ul>"
      ],
      "text/plain": [
       "NIterations"
      ]
     },
     "execution_count": 8,
     "metadata": {},
     "output_type": "execute_result"
    }
   ],
   "source": [
    "function NIterations(nQubits : Int) : Int {\n",
    "    let nItems = 1 <<< nQubits;\n",
    "    let angle = ArcSin(1. / Sqrt(IntAsDouble(nItems)));\n",
    "    let nIterations = Round(0.25 * PI() / angle - 0.5);\n",
    "    return nIterations;\n",
    "}"
   ]
  },
  {
   "cell_type": "code",
   "execution_count": 10,
   "metadata": {},
   "outputs": [
    {
     "data": {
      "application/json": "[\"ApplyOracle\"]",
      "text/html": [
       "<ul><li>ApplyOracle</li></ul>"
      ],
      "text/plain": [
       "ApplyOracle"
      ]
     },
     "execution_count": 10,
     "metadata": {},
     "output_type": "execute_result"
    }
   ],
   "source": [
    "operation ApplyOracle(\n",
    "    idxMarkedItem : Int,\n",
    "    register : Qubit[],\n",
    "    flag : Qubit)\n",
    ": Unit is Adj + Ctl {\n",
    "    (ControlledOnInt(idxMarkedItem, X))(register, flag);\n",
    "}"
   ]
  },
  {
   "cell_type": "code",
   "execution_count": 11,
   "metadata": {},
   "outputs": [
    {
     "data": {
      "application/json": "[\"SearchForMarkedItem\"]",
      "text/html": [
       "<ul><li>SearchForMarkedItem</li></ul>"
      ],
      "text/plain": [
       "SearchForMarkedItem"
      ]
     },
     "execution_count": 11,
     "metadata": {},
     "output_type": "execute_result"
    }
   ],
   "source": [
    "operation SearchForMarkedItem(\n",
    "    nQubits : Int,\n",
    "    markItem : ((Qubit[], Qubit) => Unit is Adj)\n",
    ")\n",
    ": Int {\n",
    "    using (qubits = Qubit[nQubits]) {\n",
    "        PrepareInitialState(qubits);\n",
    " \n",
    "        for (idxIteration in 0..NIterations(nQubits) - 1) {\n",
    "            ReflectAboutMarkedState(markItem, qubits);\n",
    "            ReflectAboutInitialState(PrepareInitialState, qubits);\n",
    "        }\n",
    " \n",
    "        return MeasureInteger(LittleEndian(qubits));\n",
    "    }\n",
    "}"
   ]
  },
  {
   "cell_type": "code",
   "execution_count": 12,
   "metadata": {},
   "outputs": [
    {
     "data": {
      "application/json": "[\"RunGroverSearch\"]",
      "text/html": [
       "<ul><li>RunGroverSearch</li></ul>"
      ],
      "text/plain": [
       "RunGroverSearch"
      ]
     },
     "execution_count": 12,
     "metadata": {},
     "output_type": "execute_result"
    }
   ],
   "source": [
    "operation RunGroverSearch() : Unit {\n",
    "    let idxMarkedItem = 6;\n",
    "    let markItem = ApplyOracle(idxMarkedItem, _, _);\n",
    "    let foundItem = SearchForMarkedItem(3, markItem);\n",
    "    Message($\"marked {idxMarkedItem} and found {foundItem}.\");\n",
    "}"
   ]
  },
  {
   "cell_type": "code",
   "execution_count": 15,
   "metadata": {
    "scrolled": true
   },
   "outputs": [
    {
     "name": "stdout",
     "output_type": "stream",
     "text": [
      "marked 6 and found 6.\n"
     ]
    },
    {
     "data": {
      "application/json": "{\"@type\":\"tuple\"}",
      "text/plain": [
       "()"
      ]
     },
     "execution_count": 15,
     "metadata": {},
     "output_type": "execute_result"
    }
   ],
   "source": [
    "%simulate RunGroverSearch"
   ]
  },
  {
   "cell_type": "code",
   "execution_count": null,
   "metadata": {},
   "outputs": [],
   "source": []
  }
 ],
 "metadata": {
  "kernelspec": {
   "display_name": "Q#",
   "language": "qsharp",
   "name": "iqsharp"
  },
  "language_info": {
   "file_extension": ".qs",
   "mimetype": "text/x-qsharp",
   "name": "qsharp",
   "version": "0.12"
  }
 },
 "nbformat": 4,
 "nbformat_minor": 4
}