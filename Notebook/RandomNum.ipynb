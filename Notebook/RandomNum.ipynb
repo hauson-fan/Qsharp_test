{
 "cells": [
  {
   "cell_type": "code",
   "execution_count": 1,
   "metadata": {
    "scrolled": true
   },
   "outputs": [
    {
     "name": "stdout",
     "output_type": "stream",
     "text": [
      "/snippet_.qs(21,14): warning QS5002: This expression may be short-circuited, and operation calls may not be executed.\n"
     ]
    },
    {
     "data": {
      "application/json": "[\"SampleQuantumRandomNumberGenerator\",\"SampleRandomNumberInRange\",\"SampleRandomNumber\"]",
      "text/html": [
       "<ul><li>SampleQuantumRandomNumberGenerator</li><li>SampleRandomNumberInRange</li><li>SampleRandomNumber</li></ul>"
      ],
      "text/plain": [
       "SampleQuantumRandomNumberGenerator, SampleRandomNumberInRange, SampleRandomNumber"
      ]
     },
     "execution_count": 1,
     "metadata": {},
     "output_type": "execute_result"
    }
   ],
   "source": [
    "open Microsoft.Quantum.Convert;\n",
    "open Microsoft.Quantum.Math;\n",
    "open Microsoft.Quantum.Measurement;\n",
    "open Microsoft.Quantum.Canon;\n",
    "open Microsoft.Quantum.Intrinsic;\n",
    "\n",
    "operation SampleQuantumRandomNumberGenerator() : Result {\n",
    "    using (q = Qubit())  {  // Allocate a qubit.\n",
    "        H(q);               // Put the qubit to superposition. It now has a 50% chance of being 0 or 1.\n",
    "            return MResetZ(q);  // Measure the qubit value.\n",
    "    }\n",
    "}\n",
    "\n",
    "operation SampleRandomNumberInRange(max : Int) : Int {\n",
    "    mutable bits = new Result[0];\n",
    "    for (idxBit in 1..BitSizeI(max)) {\n",
    "        set bits += [SampleQuantumRandomNumberGenerator()];\n",
    "    }\n",
    "    let sample = ResultArrayAsInt(bits);\n",
    "    return sample > max\n",
    "           ? SampleRandomNumberInRange(max)\n",
    "           | sample;\n",
    "}\n",
    "\n",
    "operation SampleRandomNumber() : Int {\n",
    "    let max = 50;\n",
    "    Message($\"Sampling a random number between 0 and {max}: \");\n",
    "    return SampleRandomNumberInRange(max);\n",
    "}"
   ]
  },
  {
   "cell_type": "code",
   "execution_count": 2,
   "metadata": {
    "scrolled": true
   },
   "outputs": [
    {
     "data": {
      "application/json": "0",
      "text/plain": [
       "Zero"
      ]
     },
     "execution_count": 2,
     "metadata": {},
     "output_type": "execute_result"
    }
   ],
   "source": [
    "%simulate SampleQuantumRandomNumberGenerator"
   ]
  },
  {
   "cell_type": "code",
   "execution_count": 5,
   "metadata": {},
   "outputs": [
    {
     "name": "stdout",
     "output_type": "stream",
     "text": [
      "Sampling a random number between 0 and 50: \n"
     ]
    },
    {
     "data": {
      "application/json": "27",
      "text/plain": [
       "27"
      ]
     },
     "execution_count": 5,
     "metadata": {},
     "output_type": "execute_result"
    }
   ],
   "source": [
    "%simulate SampleRandomNumber"
   ]
  }
 ],
 "metadata": {
  "kernelspec": {
   "display_name": "Q#",
   "language": "qsharp",
   "name": "iqsharp"
  },
  "language_info": {
   "file_extension": ".qs",
   "mimetype": "text/x-qsharp",
   "name": "qsharp",
   "version": "0.12"
  }
 },
 "nbformat": 4,
 "nbformat_minor": 4
}
