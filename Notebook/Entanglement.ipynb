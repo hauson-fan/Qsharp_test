{
 "cells": [
  {
   "cell_type": "code",
   "execution_count": 28,
   "metadata": {},
   "outputs": [
    {
     "data": {
      "application/json": "[\"SetQubitState\",\"TestBellState\"]",
      "text/html": [
       "<ul><li>SetQubitState</li><li>TestBellState</li></ul>"
      ],
      "text/plain": [
       "SetQubitState, TestBellState"
      ]
     },
     "execution_count": 28,
     "metadata": {},
     "output_type": "execute_result"
    }
   ],
   "source": [
    "open Microsoft.Quantum.Canon;\n",
    "open Microsoft.Quantum.Intrinsic;\n",
    "\n",
    "operation SetQubitState(desired : Result, q1 : Qubit) : Unit {\n",
    "    if (desired != M(q1)) {\n",
    "        X(q1);\n",
    "    }\n",
    "}\n",
    "\n",
    "operation TestBellState(count : Int, initial : Result) : (Int, Int) {\n",
    "\n",
    "    mutable numOnes = 0;\n",
    "    using ((q0, q1) = (Qubit(), Qubit())) {\n",
    "        for (test in 1..count) {\n",
    "            SetQubitState(initial, q0);\n",
    "            SetQubitState(Zero, q1);\n",
    "\n",
    "            H(q0);\n",
    "            CNOT(q0,q1);\n",
    "            let res = M(q0);\n",
    "\n",
    "            // Count the number of ones we saw:\n",
    "            if (res == One) {\n",
    "                set numOnes += 1;\n",
    "            }\n",
    "        }\n",
    "\n",
    "        SetQubitState(Zero, q0);\n",
    "        SetQubitState(Zero, q1);\n",
    "    }\n",
    "\n",
    "    // Return number of times we saw a |0> and number of times we saw a |1>\n",
    "    return (count-numOnes, numOnes);\n",
    "}"
   ]
  },
  {
   "cell_type": "code",
   "execution_count": 29,
   "metadata": {},
   "outputs": [
    {
     "data": {
      "application/json": "[\"TestBellStateOne\",\"TestBellStateZero\"]",
      "text/html": [
       "<ul><li>TestBellStateOne</li><li>TestBellStateZero</li></ul>"
      ],
      "text/plain": [
       "TestBellStateOne, TestBellStateZero"
      ]
     },
     "execution_count": 29,
     "metadata": {},
     "output_type": "execute_result"
    }
   ],
   "source": [
    "operation TestBellStateOne(count : Int) : (Int, Int) {\n",
    "    return TestBellState(count, One);\n",
    "}\n",
    "\n",
    "operation TestBellStateZero(count : Int) : (Int, Int) {\n",
    "    return TestBellState(count, Zero);\n",
    "}"
   ]
  },
  {
   "cell_type": "code",
   "execution_count": 30,
   "metadata": {
    "scrolled": true
   },
   "outputs": [
    {
     "data": {
      "application/json": "{\"@type\":\"@tuple\",\"Item1\":489,\"Item2\":511}",
      "text/plain": [
       "(489, 511)"
      ]
     },
     "execution_count": 30,
     "metadata": {},
     "output_type": "execute_result"
    }
   ],
   "source": [
    "%simulate TestBellStateOne count=1000"
   ]
  },
  {
   "cell_type": "code",
   "execution_count": 31,
   "metadata": {},
   "outputs": [
    {
     "data": {
      "application/json": "{\"@type\":\"@tuple\",\"Item1\":489,\"Item2\":511}",
      "text/plain": [
       "(489, 511)"
      ]
     },
     "execution_count": 31,
     "metadata": {},
     "output_type": "execute_result"
    }
   ],
   "source": [
    "%simulate TestBellStateZero count=1000"
   ]
  }
 ],
 "metadata": {
  "kernelspec": {
   "display_name": "Q#",
   "language": "qsharp",
   "name": "iqsharp"
  },
  "language_info": {
   "file_extension": ".qs",
   "mimetype": "text/x-qsharp",
   "name": "qsharp",
   "version": "0.12"
  }
 },
 "nbformat": 4,
 "nbformat_minor": 4
}
